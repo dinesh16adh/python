{
 "cells": [
  {
   "cell_type": "code",
   "execution_count": 20,
   "metadata": {},
   "outputs": [
    {
     "data": {
      "text/plain": [
       "'hello this is the parent '"
      ]
     },
     "execution_count": 20,
     "metadata": {},
     "output_type": "execute_result"
    }
   ],
   "source": [
    "from abc import ABC, abstractmethod\n",
    "class Parent():\n",
    "    @abstractmethod\n",
    "    def shape_test(self):\n",
    "        return \"hello this is the parent \"\n",
    "\n",
    "class Child(Parent):\n",
    "    def shape_test(self):\n",
    "        return \"this is testing from child\"\n",
    "    \n",
    "class Child2(Parent):\n",
    "    def shape_test(self):\n",
    "        return \"this is testing from child2\"\n",
    "    \n",
    "obj=Parent()\n",
    "obj.shape_test()\n"
   ]
  }
 ],
 "metadata": {
  "kernelspec": {
   "display_name": "practicesets",
   "language": "python",
   "name": "python3"
  },
  "language_info": {
   "codemirror_mode": {
    "name": "ipython",
    "version": 3
   },
   "file_extension": ".py",
   "mimetype": "text/x-python",
   "name": "python",
   "nbconvert_exporter": "python",
   "pygments_lexer": "ipython3",
   "version": "3.12.2"
  }
 },
 "nbformat": 4,
 "nbformat_minor": 2
}
