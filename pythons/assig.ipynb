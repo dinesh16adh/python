{
 "cells": [
  {
   "cell_type": "code",
   "execution_count": 7,
   "metadata": {},
   "outputs": [
    {
     "name": "stdout",
     "output_type": "stream",
     "text": [
      "6\n"
     ]
    }
   ],
   "source": [
    "\n",
    "def add(*args):\n",
    "    sum=0\n",
    "    for i in args:\n",
    "        sum = sum + i\n",
    "    return sum\n",
    "x=add(1,2,3)\n",
    "print(x)"
   ]
  },
  {
   "cell_type": "code",
   "execution_count": 27,
   "metadata": {},
   "outputs": [
    {
     "name": "stdout",
     "output_type": "stream",
     "text": [
      "9\n"
     ]
    }
   ],
   "source": [
    "def keywoard_args(**kwargs):\n",
    "    sum=0\n",
    "    for i in kwargs.values():\n",
    "        sum = sum + i\n",
    "    return sum\n",
    "    \n",
    "    # print(type(kwargs))\n",
    "a=keywoard_args(a=4,b=2,c=3)\n",
    "print(a)\n"
   ]
  },
  {
   "cell_type": "code",
   "execution_count": 29,
   "metadata": {},
   "outputs": [
    {
     "name": "stdout",
     "output_type": "stream",
     "text": [
      "1\n",
      "(2, 3, 4, 5)\n",
      "{'n': 'he'}\n"
     ]
    }
   ],
   "source": [
    "def arbitary_key(a,*args,**kwargs):\n",
    "    print(a)\n",
    "    print(args)\n",
    "    print(kwargs)\n",
    "arbitary_key(1,2,3,4,5,n=\"he\")"
   ]
  },
  {
   "cell_type": "code",
   "execution_count": 31,
   "metadata": {},
   "outputs": [
    {
     "name": "stdout",
     "output_type": "stream",
     "text": [
      "hello\n"
     ]
    }
   ],
   "source": [
    "def test():\n",
    "    def testing():\n",
    "        print(\"hello\")\n",
    "    testing()\n",
    "test()"
   ]
  },
  {
   "cell_type": "code",
   "execution_count": 32,
   "metadata": {},
   "outputs": [
    {
     "name": "stdout",
     "output_type": "stream",
     "text": [
      "hello\n"
     ]
    }
   ],
   "source": [
    "def test(a):\n",
    "    def add_1():\n",
    "        return \"hello\"\n",
    "    def sum():\n",
    "        return \"hi\"\n",
    "    if(a==1):\n",
    "       return add_1()\n",
    "    else:\n",
    "        return sum()\n",
    "print(test(1))"
   ]
  }
 ],
 "metadata": {
  "kernelspec": {
   "display_name": "practicesets",
   "language": "python",
   "name": "python3"
  },
  "language_info": {
   "codemirror_mode": {
    "name": "ipython",
    "version": 3
   },
   "file_extension": ".py",
   "mimetype": "text/x-python",
   "name": "python",
   "nbconvert_exporter": "python",
   "pygments_lexer": "ipython3",
   "version": "3.12.2"
  }
 },
 "nbformat": 4,
 "nbformat_minor": 2
}
