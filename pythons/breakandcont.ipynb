{
 "cells": [
  {
   "cell_type": "code",
   "execution_count": 2,
   "metadata": {},
   "outputs": [
    {
     "name": "stdout",
     "output_type": "stream",
     "text": [
      "1\n",
      "2\n",
      "3\n",
      "4\n"
     ]
    }
   ],
   "source": [
    "l=[1,2,3,4,5,6]\n",
    "for i in l:\n",
    "    print(i)\n",
    "    if (i==4):\n",
    "        break\n"
   ]
  },
  {
   "cell_type": "code",
   "execution_count": 4,
   "metadata": {},
   "outputs": [
    {
     "name": "stdout",
     "output_type": "stream",
     "text": [
      "1\n",
      "2\n",
      "3\n",
      "5\n",
      "6\n"
     ]
    }
   ],
   "source": [
    "l=[1,2,3,4,5,6]\n",
    "for i in l:\n",
    "    \n",
    "    if (i==4):\n",
    "        continue\n",
    "    print(i)"
   ]
  },
  {
   "cell_type": "code",
   "execution_count": 20,
   "metadata": {},
   "outputs": [
    {
     "name": "stdout",
     "output_type": "stream",
     "text": [
      "python\n",
      "swift\n",
      "c++\n"
     ]
    }
   ],
   "source": [
    "l=['python','swift','c++']\n",
    "for i in range(len(l)):\n",
    "    print(l[i])"
   ]
  },
  {
   "cell_type": "code",
   "execution_count": 5,
   "metadata": {},
   "outputs": [
    {
     "name": "stdout",
     "output_type": "stream",
     "text": [
      "1\n",
      "2\n",
      "3\n",
      "4\n",
      "5\n",
      "6\n"
     ]
    }
   ],
   "source": [
    "l=[1,2,3,4,\"hello\",5,6]\n",
    "for i in l:\n",
    "    \n",
    "    if (i==\"hello\"):\n",
    "        continue\n",
    "    print(i)"
   ]
  },
  {
   "cell_type": "code",
   "execution_count": 19,
   "metadata": {},
   "outputs": [
    {
     "name": "stdout",
     "output_type": "stream",
     "text": [
      "|1| x |1| = |1|\n",
      "|1| x |2| = |2|\n",
      "|1| x |3| = |3|\n",
      "|1| x |4| = |4|\n",
      "|1| x |5| = |5|\n",
      "|1| x |6| = |6|\n",
      "|1| x |7| = |7|\n",
      "|1| x |8| = |8|\n",
      "|1| x |9| = |9|\n",
      "|1| x |10| = |10|\n",
      "======================\n",
      "|2| x |1| = |2|\n",
      "|2| x |2| = |4|\n",
      "|2| x |3| = |6|\n",
      "|2| x |4| = |8|\n",
      "|2| x |5| = |10|\n",
      "|2| x |6| = |12|\n",
      "|2| x |7| = |14|\n",
      "|2| x |8| = |16|\n",
      "|2| x |9| = |18|\n",
      "|2| x |10| = |20|\n",
      "======================\n",
      "|3| x |1| = |3|\n",
      "|3| x |2| = |6|\n",
      "|3| x |3| = |9|\n",
      "|3| x |4| = |12|\n",
      "|3| x |5| = |15|\n",
      "|3| x |6| = |18|\n",
      "|3| x |7| = |21|\n",
      "|3| x |8| = |24|\n",
      "|3| x |9| = |27|\n",
      "|3| x |10| = |30|\n",
      "======================\n",
      "|4| x |1| = |4|\n",
      "|4| x |2| = |8|\n",
      "|4| x |3| = |12|\n",
      "|4| x |4| = |16|\n",
      "|4| x |5| = |20|\n",
      "|4| x |6| = |24|\n",
      "|4| x |7| = |28|\n",
      "|4| x |8| = |32|\n",
      "|4| x |9| = |36|\n",
      "|4| x |10| = |40|\n",
      "======================\n",
      "|5| x |1| = |5|\n",
      "|5| x |2| = |10|\n",
      "|5| x |3| = |15|\n",
      "|5| x |4| = |20|\n",
      "|5| x |5| = |25|\n",
      "|5| x |6| = |30|\n",
      "|5| x |7| = |35|\n",
      "|5| x |8| = |40|\n",
      "|5| x |9| = |45|\n",
      "|5| x |10| = |50|\n",
      "======================\n"
     ]
    }
   ],
   "source": [
    "for i in range(1,6):\n",
    "    for j in range(1,11):\n",
    "        print(f\"|{i}| x |{j}| = |{i*j}|\")\n",
    "        \n",
    "    print(\"======================\")\n"
   ]
  }
 ],
 "metadata": {
  "kernelspec": {
   "display_name": "practicesets",
   "language": "python",
   "name": "python3"
  },
  "language_info": {
   "codemirror_mode": {
    "name": "ipython",
    "version": 3
   },
   "file_extension": ".py",
   "mimetype": "text/x-python",
   "name": "python",
   "nbconvert_exporter": "python",
   "pygments_lexer": "ipython3",
   "version": "3.12.2"
  }
 },
 "nbformat": 4,
 "nbformat_minor": 2
}
