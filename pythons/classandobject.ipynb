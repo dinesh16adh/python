{
 "cells": [
  {
   "cell_type": "code",
   "execution_count": 2,
   "metadata": {},
   "outputs": [
    {
     "name": "stdout",
     "output_type": "stream",
     "text": [
      "eewweo\n"
     ]
    },
    {
     "data": {
      "text/plain": [
       "__main__.Test"
      ]
     },
     "execution_count": 2,
     "metadata": {},
     "output_type": "execute_result"
    }
   ],
   "source": [
    "class Test():\n",
    "    print(\"eewweo\")\n",
    "\n",
    "x = Test()\n",
    "type(x)"
   ]
  },
  {
   "cell_type": "code",
   "execution_count": 2,
   "metadata": {},
   "outputs": [],
   "source": [
    "class Test1():\n",
    "    def __init__(self):\n",
    "        self.a=10\n",
    "        self.b=11\n",
    "    def add(self):\n",
    "        return self.a+self.b \n",
    "    def diff(self):\n",
    "        return self.a-self.b \n",
    "obj=Test1()\n",
    "sum_of_number=obj.add()\n",
    "diff_of_number=obj.diff()\n",
    "print(sum_of_number)\n",
    "print(diff_of_number)\n"
   ]
  }
 ],
 "metadata": {
  "kernelspec": {
   "display_name": "practicesets",
   "language": "python",
   "name": "python3"
  },
  "language_info": {
   "codemirror_mode": {
    "name": "ipython",
    "version": 3
   },
   "file_extension": ".py",
   "mimetype": "text/x-python",
   "name": "python",
   "nbconvert_exporter": "python",
   "pygments_lexer": "ipython3",
   "version": "3.12.2"
  }
 },
 "nbformat": 4,
 "nbformat_minor": 2
}
