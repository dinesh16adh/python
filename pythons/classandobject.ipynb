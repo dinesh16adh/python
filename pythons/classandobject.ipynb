{
 "cells": [
  {
   "cell_type": "code",
   "execution_count": 2,
   "metadata": {},
   "outputs": [
    {
     "name": "stdout",
     "output_type": "stream",
     "text": [
      "eewweo\n"
     ]
    },
    {
     "data": {
      "text/plain": [
       "__main__.Test"
      ]
     },
     "execution_count": 2,
     "metadata": {},
     "output_type": "execute_result"
    }
   ],
   "source": [
    "class Test():\n",
    "    print(\"eewweo\")\n",
    "\n",
    "x = Test()\n",
    "type(x)"
   ]
  },
  {
   "cell_type": "code",
   "execution_count": 2,
   "metadata": {},
   "outputs": [
    {
     "name": "stdout",
     "output_type": "stream",
     "text": [
      "{0.9090909090909091, 110, 21, -1}\n"
     ]
    }
   ],
   "source": [
    "class Test1():\n",
    "    def __init__(self):\n",
    "        self.a=10\n",
    "        self.b=11\n",
    "    def add(self):\n",
    "        return self.a+self.b \n",
    "    def diff(self):\n",
    "        return self.a-self.b \n",
    "    def mul(self):\n",
    "        return self.a*self.b\n",
    "    def div(self):\n",
    "        return self.a/self.b\n",
    "    def calculator(self):\n",
    "       return{\n",
    "           self.add(),\n",
    "           self.diff(),\n",
    "           self.mul(),\n",
    "           self.div()\n",
    "       }\n",
    "obj=Test1()\n",
    "calc=obj.calculator()\n",
    "\n",
    "print(calc)\n"
   ]
  }
 ],
 "metadata": {
  "kernelspec": {
   "display_name": "practicesets",
   "language": "python",
   "name": "python3"
  },
  "language_info": {
   "codemirror_mode": {
    "name": "ipython",
    "version": 3
   },
   "file_extension": ".py",
   "mimetype": "text/x-python",
   "name": "python",
   "nbconvert_exporter": "python",
   "pygments_lexer": "ipython3",
   "version": "3.12.2"
  }
 },
 "nbformat": 4,
 "nbformat_minor": 2
}
