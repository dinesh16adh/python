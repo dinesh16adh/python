{
 "cells": [
  {
   "cell_type": "code",
   "execution_count": 4,
   "metadata": {},
   "outputs": [
    {
     "data": {
      "text/plain": [
       "'adhikari'"
      ]
     },
     "execution_count": 4,
     "metadata": {},
     "output_type": "execute_result"
    }
   ],
   "source": [
    "a={\n",
    "    \"name\":[\"dinesh\",\"adhikari\",\"pokhara\"]\n",
    "}\n",
    "\n",
    "b=a[\"name\"]\n",
    "b[1]\n"
   ]
  },
  {
   "cell_type": "code",
   "execution_count": 22,
   "metadata": {},
   "outputs": [
    {
     "name": "stdout",
     "output_type": "stream",
     "text": [
      "sudan bhandari 77\n"
     ]
    }
   ],
   "source": [
    "b = {\n",
    "    \"name\":['sudan','bhandari']\n",
    "}\n",
    "a = [b,1,3,[1.5,77,1]]\n",
    "c=a[0]\n",
    "\n",
    "d=a[3][1]\n",
    "\n",
    "print(f\"{c[\"name\"][0]} {c[\"name\"][1]} {d}\")"
   ]
  },
  {
   "cell_type": "code",
   "execution_count": 34,
   "metadata": {},
   "outputs": [
    {
     "name": "stdout",
     "output_type": "stream",
     "text": [
      "suda1\n"
     ]
    }
   ],
   "source": [
    "a = ['s','u','d','a',1]\n",
    "print(f\"{a[0]}{a[1]}{a[2]}{a[3]}{a[4]}\")\n",
    "# for i in a:\n",
    "#     print(i)"
   ]
  }
 ],
 "metadata": {
  "kernelspec": {
   "display_name": "practicesets",
   "language": "python",
   "name": "python3"
  },
  "language_info": {
   "codemirror_mode": {
    "name": "ipython",
    "version": 3
   },
   "file_extension": ".py",
   "mimetype": "text/x-python",
   "name": "python",
   "nbconvert_exporter": "python",
   "pygments_lexer": "ipython3",
   "version": "3.12.2"
  }
 },
 "nbformat": 4,
 "nbformat_minor": 2
}
