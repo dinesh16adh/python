{
 "cells": [
  {
   "cell_type": "code",
   "execution_count": 4,
   "metadata": {},
   "outputs": [
    {
     "data": {
      "text/plain": [
       "'adhikari'"
      ]
     },
     "execution_count": 4,
     "metadata": {},
     "output_type": "execute_result"
    }
   ],
   "source": [
    "a={\n",
    "    \"name\":[\"dinesh\",\"adhikari\",\"pokhara\"]\n",
    "}\n",
    "\n",
    "b=a[\"name\"]\n",
    "b[1]\n"
   ]
  },
  {
   "cell_type": "code",
   "execution_count": 22,
   "metadata": {},
   "outputs": [
    {
     "name": "stdout",
     "output_type": "stream",
     "text": [
      "sudan bhandari 77\n"
     ]
    }
   ],
   "source": [
    "b = {\n",
    "    \"name\":['sudan','bhandari']\n",
    "}\n",
    "a = [b,1,3,[1.5,77,1]]\n",
    "c=a[0]\n",
    "\n",
    "d=a[3][1]\n",
    "\n",
    "print(f\"{c[\"name\"][0]} {c[\"name\"][1]} {d}\")"
   ]
  },
  {
   "cell_type": "code",
   "execution_count": 34,
   "metadata": {},
   "outputs": [
    {
     "name": "stdout",
     "output_type": "stream",
     "text": [
      "suda1\n"
     ]
    }
   ],
   "source": [
    "a = ['s','u','d','a',1]\n",
    "print(f\"{a[0]}{a[1]}{a[2]}{a[3]}{a[4]}\")\n",
    "# for i in a:\n",
    "#     print(i)"
   ]
  },
  {
   "cell_type": "code",
   "execution_count": 3,
   "metadata": {},
   "outputs": [
    {
     "name": "stdout",
     "output_type": "stream",
     "text": [
      "sudan bhandari 1\n"
     ]
    }
   ],
   "source": [
    "b = {\n",
    "    \"name\":['sudan','bhandari']\n",
    "}\n",
    "a = [b,1,3,[1.5,77,1]]\n",
    "print(f\"{b[\"name\"][0]} {b[\"name\"][1]} {a[3][2]}\")"
   ]
  },
  {
   "cell_type": "code",
   "execution_count": 7,
   "metadata": {},
   "outputs": [
    {
     "data": {
      "text/plain": [
       "{}"
      ]
     },
     "execution_count": 7,
     "metadata": {},
     "output_type": "execute_result"
    }
   ],
   "source": [
    "a = {\n",
    "    \"name\":['sudan','bhandari']\n",
    "}\n",
    "a.clear()\n",
    "a\n",
    "# del(a)\n",
    "# a"
   ]
  },
  {
   "cell_type": "code",
   "execution_count": null,
   "metadata": {},
   "outputs": [],
   "source": []
  },
  {
   "cell_type": "code",
   "execution_count": 16,
   "metadata": {},
   "outputs": [
    {
     "data": {
      "text/plain": [
       "('address', 'pokhara')"
      ]
     },
     "execution_count": 16,
     "metadata": {},
     "output_type": "execute_result"
    }
   ],
   "source": [
    "a = {\n",
    "    \"name\":['sudan','bhandari'],\n",
    "    \"age\":22,\n",
    "    \"address\":\"pokhara\"\n",
    "\n",
    "}\n",
    "# a.pop(\"address\",\"name\")\n",
    "# a\n",
    "a.popitem()"
   ]
  },
  {
   "cell_type": "code",
   "execution_count": 18,
   "metadata": {},
   "outputs": [
    {
     "data": {
      "text/plain": [
       "{'name': ['sudan', 'bhandari'], 'age': 22, 'address': 'pokhara'}"
      ]
     },
     "execution_count": 18,
     "metadata": {},
     "output_type": "execute_result"
    }
   ],
   "source": [
    "a = {\n",
    "    \"name\":['sudan','bhandari'],\n",
    "    \"age\":22,\n",
    "    \"address\":\"pokhara\"\n",
    "}\n",
    "b=a.copy()\n",
    "b"
   ]
  },
  {
   "cell_type": "code",
   "execution_count": 19,
   "metadata": {},
   "outputs": [
    {
     "data": {
      "text/plain": [
       "{'name': ['sudan', 'bhandari'], 'age': 22, 'address': 'pokhara'}"
      ]
     },
     "execution_count": 19,
     "metadata": {},
     "output_type": "execute_result"
    }
   ],
   "source": [
    "a = {\n",
    "    \"name\":['sudan','bhandari'],\n",
    "    \"age\":22,\n",
    "    \"address\":\"pokhara\"\n",
    "}\n",
    "b=dict(a)\n",
    "b"
   ]
  },
  {
   "cell_type": "code",
   "execution_count": 29,
   "metadata": {},
   "outputs": [
    {
     "name": "stdout",
     "output_type": "stream",
     "text": [
      "pokhara-kaski\n",
      "kathmandu-kktm\n"
     ]
    }
   ],
   "source": [
    "a = {\n",
    "    \"name\":'sudan',\n",
    "    \"age\":22,\n",
    "    \"address\":[{\"city\":\"pokhara\",\n",
    "               \"district\":\"kaski\"\n",
    "               },\n",
    "               {\"city\":\"kathmandu\",\n",
    "               \"district\":\"kktm\"\n",
    "               },\n",
    "               ]\n",
    "}\n",
    "print(f\"{a[\"address\"][0][\"city\"]}-{a[\"address\"][0][\"district\"]}\")\n",
    "print(f\"{a[\"address\"][1][\"city\"]}-{a[\"address\"][1][\"district\"]}\")"
   ]
  },
  {
   "cell_type": "code",
   "execution_count": 27,
   "metadata": {},
   "outputs": [
    {
     "data": {
      "text/plain": [
       "['sudan', 'bhandari']"
      ]
     },
     "execution_count": 27,
     "metadata": {},
     "output_type": "execute_result"
    }
   ],
   "source": [
    "a = {\n",
    "    \"name\":['sudan','bhandari'],\n",
    "    \"age\":22,\n",
    "    \"address\":\"pokhara\"\n",
    "}\n",
    "b=a.get('name')\n",
    "b"
   ]
  },
  {
   "cell_type": "code",
   "execution_count": null,
   "metadata": {},
   "outputs": [],
   "source": []
  }
 ],
 "metadata": {
  "kernelspec": {
   "display_name": "practicesets",
   "language": "python",
   "name": "python3"
  },
  "language_info": {
   "codemirror_mode": {
    "name": "ipython",
    "version": 3
   },
   "file_extension": ".py",
   "mimetype": "text/x-python",
   "name": "python",
   "nbconvert_exporter": "python",
   "pygments_lexer": "ipython3",
   "version": "3.12.2"
  }
 },
 "nbformat": 4,
 "nbformat_minor": 2
}
