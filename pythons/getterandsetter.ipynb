{
 "cells": [
  {
   "cell_type": "code",
   "execution_count": 8,
   "metadata": {},
   "outputs": [
    {
     "name": "stdout",
     "output_type": "stream",
     "text": [
      "200.0\n"
     ]
    }
   ],
   "source": [
    "class Myclass:\n",
    "    def __init__(self,value):\n",
    "        self.a=value\n",
    "    def show (self):\n",
    "        print(f\"value of {self.a}\")\n",
    "    @property\n",
    "    def ten_value(self):\n",
    "        return 10*self.a \n",
    "    @ten_value.setter\n",
    "    def ten_value(self,new_value):\n",
    "      self.a=new_value/10\n",
    "obj=Myclass(10)\n",
    "obj.ten_value=200\n",
    "print(obj.ten_value)"
   ]
  }
 ],
 "metadata": {
  "kernelspec": {
   "display_name": "practicesets",
   "language": "python",
   "name": "python3"
  },
  "language_info": {
   "codemirror_mode": {
    "name": "ipython",
    "version": 3
   },
   "file_extension": ".py",
   "mimetype": "text/x-python",
   "name": "python",
   "nbconvert_exporter": "python",
   "pygments_lexer": "ipython3",
   "version": "3.12.2"
  }
 },
 "nbformat": 4,
 "nbformat_minor": 2
}
