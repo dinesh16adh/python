{
 "cells": [
  {
   "cell_type": "code",
   "execution_count": 4,
   "metadata": {},
   "outputs": [
    {
     "data": {
      "text/plain": [
       "20"
      ]
     },
     "execution_count": 4,
     "metadata": {},
     "output_type": "execute_result"
    }
   ],
   "source": [
    "class Parent():\n",
    "    x=10\n",
    "class Child(Parent):\n",
    "    y=20\n",
    "obj = Child()\n",
    "obj.x\n"
   ]
  },
  {
   "cell_type": "code",
   "execution_count": 1,
   "metadata": {},
   "outputs": [
    {
     "name": "stdout",
     "output_type": "stream",
     "text": [
      "i am child\n"
     ]
    },
    {
     "data": {
      "text/plain": [
       "1"
      ]
     },
     "execution_count": 1,
     "metadata": {},
     "output_type": "execute_result"
    }
   ],
   "source": [
    "class Inheri():\n",
    "    def __init__(self,a,b) -> None:\n",
    "        self.x=a\n",
    "        self.y=b\n",
    "class Child1(Inheri):\n",
    "        def __init__(self, c, d) -> None:\n",
    "             self.e=c\n",
    "             self.f=d\n",
    "             Inheri.__init__(self,c,d)\n",
    "        print (\"i am child\")\n",
    "        def inside(self):\n",
    "             return self.x  \n",
    "obj = Child1(1,2)\n",
    "obj.inside()"
   ]
  },
  {
   "cell_type": "code",
   "execution_count": 26,
   "metadata": {},
   "outputs": [
    {
     "name": "stdout",
     "output_type": "stream",
     "text": [
      "this is child3\n",
      "this is p1\n",
      "2 1\n"
     ]
    }
   ],
   "source": [
    "class Inheri():\n",
    "    def __init__(self,a,b) -> None:\n",
    "        print(\"this is p1\")\n",
    "\n",
    "        self.x=a\n",
    "        self.y=b\n",
    "    # x=10\n",
    "class Child2():\n",
    "    def __init__(self,a,b) -> None:\n",
    "        print(\"this is p2\")\n",
    "\n",
    "        self.x=a\n",
    "        self.y=b\n",
    "    # y=20\n",
    "class Child3(Inheri,Child2):\n",
    "    # def __init__(self) -> None:\n",
    "    #      self.x=100\n",
    "    #      super().__init__(self.x)\n",
    "    print(\"this is child3\")\n",
    "    def inside(self):\n",
    "             return self.x\n",
    "obj1=Child3(1,2)\n",
    "\n",
    "print(obj1.y,obj1.x)"
   ]
  }
 ],
 "metadata": {
  "kernelspec": {
   "display_name": "practicesets",
   "language": "python",
   "name": "python3"
  },
  "language_info": {
   "codemirror_mode": {
    "name": "ipython",
    "version": 3
   },
   "file_extension": ".py",
   "mimetype": "text/x-python",
   "name": "python",
   "nbconvert_exporter": "python",
   "pygments_lexer": "ipython3",
   "version": "3.12.2"
  }
 },
 "nbformat": 4,
 "nbformat_minor": 2
}
