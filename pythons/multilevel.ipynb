{
 "cells": [
  {
   "cell_type": "code",
   "execution_count": null,
   "metadata": {},
   "outputs": [],
   "source": [
    "class Parent1:\n",
    "    def __init__(self) -> None:\n",
    "        self.a=11\n",
    "class Parent2(Parent1):\n",
    "    def __init__(self,a) -> None:\n",
    "        super().__init__()\n",
    "        self.b=a\n",
    "class Parent3(parent2):\n",
    "    def __init__(self):"
   ]
  }
 ],
 "metadata": {
  "language_info": {
   "name": "python"
  }
 },
 "nbformat": 4,
 "nbformat_minor": 2
}
