{
 "cells": [
  {
   "cell_type": "code",
   "execution_count": 2,
   "metadata": {},
   "outputs": [
    {
     "name": "stdout",
     "output_type": "stream",
     "text": [
      "hi i am from multichild\n",
      "hi i am from child 3\n",
      "hi i am from Parent 3\n"
     ]
    },
    {
     "data": {
      "text/plain": [
       "<__main__.MultiChild at 0x13b434a1340>"
      ]
     },
     "execution_count": 2,
     "metadata": {},
     "output_type": "execute_result"
    }
   ],
   "source": [
    "class Parent3:\n",
    "    def __init__(self) -> None:\n",
    "        print(\"hi i am from Parent 3\")\n",
    "\n",
    "\n",
    "class Child3(Parent3):\n",
    "    def __init__(self) -> None:\n",
    "        print(\"hi i am from child 3\")\n",
    "        super().__init__()\n",
    "\n",
    "\n",
    "class MultiChild(Child3):\n",
    "    def __init__(self) -> None:\n",
    "        print(\"hi i am from multichild\")\n",
    "        super().__init__()\n",
    "\n",
    "\n",
    "obj = MultiChild()\n",
    "obj\n"
   ]
  }
 ],
 "metadata": {
  "kernelspec": {
   "display_name": "practicesets",
   "language": "python",
   "name": "python3"
  },
  "language_info": {
   "codemirror_mode": {
    "name": "ipython",
    "version": 3
   },
   "file_extension": ".py",
   "mimetype": "text/x-python",
   "name": "python",
   "nbconvert_exporter": "python",
   "pygments_lexer": "ipython3",
   "version": "3.12.2"
  }
 },
 "nbformat": 4,
 "nbformat_minor": 2
}
