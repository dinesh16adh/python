{
 "cells": [
  {
   "cell_type": "code",
   "execution_count": 3,
   "metadata": {},
   "outputs": [
    {
     "name": "stdout",
     "output_type": "stream",
     "text": [
      "2*1=2\n",
      "2*2=4\n",
      "2*3=6\n",
      "2*4=8\n",
      "2*5=10\n",
      "2*6=12\n",
      "2*7=14\n",
      "2*8=16\n",
      "2*9=18\n",
      "2*10=20\n"
     ]
    }
   ],
   "source": [
    "for i in range(1,11):\n",
    "    print(f\"2*{i}={2*i}\")"
   ]
  },
  {
   "cell_type": "code",
   "execution_count": 4,
   "metadata": {},
   "outputs": [
    {
     "name": "stdout",
     "output_type": "stream",
     "text": [
      "4 x 1=4\n",
      "4 x 2=8\n",
      "4 x 3=12\n",
      "4 x 4=16\n",
      "4 x 5=20\n",
      "4 x 6=24\n",
      "4 x 7=28\n",
      "4 x 8=32\n",
      "4 x 9=36\n",
      "4 x 10=40\n"
     ]
    }
   ],
   "source": [
    "a = int(input(\"enter any numbers\"))\n",
    "for i in range(1,11):\n",
    "    print(f\"{a} x {i}={a*i}\")"
   ]
  }
 ],
 "metadata": {
  "kernelspec": {
   "display_name": "practicesets",
   "language": "python",
   "name": "python3"
  },
  "language_info": {
   "codemirror_mode": {
    "name": "ipython",
    "version": 3
   },
   "file_extension": ".py",
   "mimetype": "text/x-python",
   "name": "python",
   "nbconvert_exporter": "python",
   "pygments_lexer": "ipython3",
   "version": "3.12.2"
  }
 },
 "nbformat": 4,
 "nbformat_minor": 2
}
